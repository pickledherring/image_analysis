{
 "cells": [
  {
   "cell_type": "code",
   "execution_count": 25,
   "metadata": {},
   "outputs": [],
   "source": [
    "import glob\n",
    "import matplotlib.pyplot as plt\n",
    "import math\n",
    "import statistics as st\n",
    "import random\n",
    "import time\n",
    "from PIL import Image, ImageFile\n",
    "ImageFile.LOAD_TRUNCATED_IMAGES = True"
   ]
  },
  {
   "cell_type": "markdown",
   "metadata": {},
   "source": [
    "Noise addition functions: \n",
    "* Salt and pepper noise of user-specified strength \n",
    "* Gaussian noise of user-specified parameters"
   ]
  },
  {
   "cell_type": "code",
   "execution_count": 26,
   "metadata": {},
   "outputs": [],
   "source": [
    "def salt_n_pepper(img, prob):\n",
    "    # prob should be int [0 - 1], recommend <.1\n",
    "    new_img = []\n",
    "    for i in range(len(img)):\n",
    "        new_img.append([])\n",
    "        for j in range(len(img[i])):\n",
    "            if random.random() <= prob:\n",
    "                if random.choice([\"black\", \"white\"]) == \"black\":\n",
    "                    new_img[i].append(0)\n",
    "                else:\n",
    "                    new_img[i].append(255)\n",
    "            else:\n",
    "                new_img[i].append(img[i][j])\n",
    "    return new_img\n",
    "    "
   ]
  },
  {
   "cell_type": "code",
   "execution_count": 27,
   "metadata": {},
   "outputs": [],
   "source": [
    "def gaussian_noise(img, mu=0, sigma=1):\n",
    "    new_img = []\n",
    "    for i in range(len(img)):\n",
    "        new_img.append([])\n",
    "        for j in range(len(img[i])):\n",
    "            new_val = img[i][j] + random.gauss(mu, sigma)\n",
    "            if new_val < 0:\n",
    "                new_img[i].append(0)\n",
    "            elif new_val > 255:\n",
    "                new_img[i].append(1)\n",
    "            else:\n",
    "                new_img[i].append(new_val)\n",
    "\n",
    "    return new_img"
   ]
  },
  {
   "cell_type": "markdown",
   "metadata": {},
   "source": [
    "Converting color images to selected single color spectrum. "
   ]
  },
  {
   "cell_type": "code",
   "execution_count": 28,
   "metadata": {},
   "outputs": [],
   "source": [
    "def grayscale(img):\n",
    "    new_img = []\n",
    "    for i in range(len(img)):\n",
    "        new_img.append([])\n",
    "        for j in range(len(img[i])):\n",
    "            # CIE recommended constants\n",
    "            grey = .2126 * img[i][j][0] + .7152 * img[i][j][1]+ .0722 * img[i][j][2]\n",
    "            new_img[i].append(grey)\n",
    "    return new_img"
   ]
  },
  {
   "cell_type": "markdown",
   "metadata": {},
   "source": [
    "open_in_gray is the only function to open an image as all other functions are for grayscale images. run open_in gray on a file, then a function or functions on the returned image, then to_image on that return to get a viewable image"
   ]
  },
  {
   "cell_type": "code",
   "execution_count": 29,
   "metadata": {},
   "outputs": [],
   "source": [
    "def open_in_gray(file):\n",
    "    img = Image.open(file)\n",
    "    width, height = img.size\n",
    "    pix = img.getdata()\n",
    "    pix_list = []\n",
    "    for y in range(height):\n",
    "        pix_list.append([pix[y * width + x] for x in range(width)])\n",
    "\n",
    "    # all functions are on grayscale, so this step is required\n",
    "    pix_list = grayscale(pix_list)\n",
    "    return pix_list"
   ]
  },
  {
   "cell_type": "code",
   "execution_count": 30,
   "metadata": {},
   "outputs": [],
   "source": [
    "def to_image(pix_list, save_loc=None):\n",
    "    size = [len(pix_list[0]), len(pix_list)]\n",
    "    flat_list = []\n",
    "    for row in pix_list:\n",
    "        for pixel in row:\n",
    "            flat_list.append(pixel)\n",
    "    output = Image.new(\"L\", size)\n",
    "    output.putdata(flat_list)\n",
    "    \n",
    "    if save_loc:\n",
    "        output.save(f\"{save_loc}\")\n",
    "    return output"
   ]
  },
  {
   "cell_type": "markdown",
   "metadata": {},
   "source": [
    "Histogram calculation for each individual image"
   ]
  },
  {
   "cell_type": "code",
   "execution_count": 31,
   "metadata": {},
   "outputs": [],
   "source": [
    "def hist(img, bins=255):\n",
    "    bin_divs = []\n",
    "    counts = []\n",
    "    for i in range(1, bins + 1):\n",
    "        bin_divs.append(i * 255/bins)\n",
    "        counts.append(0)\n",
    "\n",
    "    for i in range(len(img)):\n",
    "        for j in range(len(img[i])):\n",
    "            # better as a binary search\n",
    "            for k in range(bins):\n",
    "                if img[i][j] <= bin_divs[k]:\n",
    "                    counts[k] += 1\n",
    "                    break\n",
    "    \n",
    "    return bin_divs, counts"
   ]
  },
  {
   "cell_type": "code",
   "execution_count": 32,
   "metadata": {},
   "outputs": [],
   "source": [
    "def plot_hist(bin_divs, counts, title=None):\n",
    "    half_width = bin_divs[0]/2\n",
    "    plt.bar([x - half_width for x in bin_divs], counts, width = half_width*2)\n",
    "    plt.xlabel(\"intensity\")\n",
    "    plt.ylabel(\"count\")\n",
    "    if title:\n",
    "            titles = {\"cyl\": \"columnar epithelial\",\n",
    "                    \"para\": \"parabasal squamous epithelial\",\n",
    "                    \"inter\": \"intermediate squamous epithelial\",\n",
    "                    \"super\": \"superficial squamous epithelial\",\n",
    "                    \"let\": \"mild nonkeratinizing dysplastic\",\n",
    "                    \"mod\": \"moderate nonkeratinizing dysplastic\",\n",
    "                    \"svar\": \"severe nonkeratinizing dysplastic\"}\n",
    "            plt.title(titles[title])\n",
    "    plt.show()"
   ]
  },
  {
   "cell_type": "markdown",
   "metadata": {},
   "source": [
    "Averaged histograms of pixel values for each class of images"
   ]
  },
  {
   "cell_type": "markdown",
   "metadata": {},
   "source": [
    "hist_avg_class can be run independently of open_in_gray as it runs it internally"
   ]
  },
  {
   "cell_type": "code",
   "execution_count": 33,
   "metadata": {},
   "outputs": [],
   "source": [
    "def hist_avg_class(folder, abbr, bins=255, plot=False):\n",
    "    # abbr can be:\n",
    "    # \"cyl\": columnar epithelial?\n",
    "    # \"para\": parabasal squamous epithelial\n",
    "    # \"inter\": intermediate squamous epithelial\n",
    "    # \"super\": superficial squamous epithelial\n",
    "    # \"let\": mild nonkeratinizing dysplastic?\n",
    "    # \"mod\": moderate nonkeratinizing dysplastic\n",
    "    # \"svar\": severe nonkeratinizing dysplastic?\n",
    "    files = glob.glob(f\"{folder}/{abbr}*\")\n",
    "\n",
    "    bin_divs = [i * 255/bins for i in range(1, bins + 1)]\n",
    "    counts = [0 for _ in range(bins)]\n",
    "    # open and grayscale each file\n",
    "    for file in files:\n",
    "        pix_list = open_in_gray(file)\n",
    "        # get and add counts\n",
    "        _, ind_counts = hist(pix_list, bins = bins)\n",
    "        counts = [a + b for a, b in zip(counts, ind_counts)]\n",
    "\n",
    "    # average counts\n",
    "    counts = [x / len(files) for x in counts]\n",
    "\n",
    "    return bin_divs, counts"
   ]
  },
  {
   "cell_type": "markdown",
   "metadata": {},
   "source": [
    "Histogram equalization for each image"
   ]
  },
  {
   "cell_type": "code",
   "execution_count": 34,
   "metadata": {},
   "outputs": [],
   "source": [
    "def hist_eq(img):\n",
    "    new_img = []\n",
    "    # get cdf\n",
    "    num_pix = len(img) * len(img[0])\n",
    "    _, counts = hist(img)\n",
    "    cdf = []\n",
    "    sum_int = 0\n",
    "    for i in range(len(counts)):\n",
    "        sum_int += counts[i]\n",
    "        cdf.append(math.floor(255 * sum_int / num_pix))\n",
    "    # apply cdf\n",
    "    for i in range(len(img)):\n",
    "        new_img.append([])\n",
    "        for j in range(len(img[i])):\n",
    "            new_img[i].append(cdf[int(img[i][j])])\n",
    "    return new_img"
   ]
  },
  {
   "cell_type": "markdown",
   "metadata": {},
   "source": [
    "Selected image quantization technique for user-specified levels\n"
   ]
  },
  {
   "cell_type": "code",
   "execution_count": 35,
   "metadata": {},
   "outputs": [],
   "source": [
    "def quantizer(img, num_levels):\n",
    "    new_img = []\n",
    "    bins = [i * 255/num_levels for i in range(1, num_levels + 1)]\n",
    "    dQ = 255 / num_levels\n",
    "    msqe = 0\n",
    "    for i in range(len(img)):\n",
    "        new_img.append([])\n",
    "        for j in range(len(img[i])):\n",
    "            for k in range(num_levels):\n",
    "                if img[i][j] <= bins[k]:\n",
    "                    new_img[i].append((k + .5) * dQ)\n",
    "                    msqe += (img[i][j] - new_img[i][j])**2\n",
    "                    break\n",
    "    msqe /= len(img) * len(img[0])\n",
    "\n",
    "    return new_img, msqe"
   ]
  },
  {
   "cell_type": "markdown",
   "metadata": {},
   "source": [
    "Filtering operations: \n",
    "*Linear filter with user-specified mask size and pixel weights\n",
    "*Median filter with user-specified mask size and pixel weights\n"
   ]
  },
  {
   "cell_type": "code",
   "execution_count": 36,
   "metadata": {},
   "outputs": [],
   "source": [
    "def ext_bounds(img, length, width, mask_size):\n",
    "    # works well when there is no border\n",
    "    new_img = []\n",
    "    for i in range(mask_size):\n",
    "        new_img.append([])\n",
    "        # top left corner\n",
    "        for j in range(mask_size):\n",
    "            new_img[i].append(img[length-mask_size+i][width-mask_size+j])\n",
    "        # top center\n",
    "        for j in range(width):\n",
    "            new_img[i].append(img[length-mask_size+i][j])\n",
    "        # top right corner\n",
    "        for j in range(mask_size):\n",
    "            new_img[i].append(img[length-mask_size+i][j])\n",
    "    for i in range(length):\n",
    "        new_img.append([])\n",
    "        # middle left\n",
    "        for j in range(mask_size):\n",
    "            new_img[i+mask_size].append(img[i][width-mask_size+j])\n",
    "        # middle center\n",
    "        for j in range(width):\n",
    "            new_img[i+mask_size].append(img[i][j])\n",
    "        # middle right\n",
    "        for j in range(mask_size):\n",
    "            new_img[i+mask_size].append(img[i][j])\n",
    "    for i in range(mask_size):\n",
    "        new_img.append([])\n",
    "        # bottom left corner\n",
    "        for j in range(mask_size):\n",
    "            new_img[i+length+mask_size].append(img[i][width-mask_size+j])\n",
    "        # bottom center\n",
    "        for j in range(width):\n",
    "            new_img[i+length+mask_size].append(img[i][j])\n",
    "        # bottom right corner\n",
    "        for j in range(mask_size):\n",
    "            new_img[i+length+mask_size].append(img[i][j])\n",
    "    return new_img"
   ]
  },
  {
   "cell_type": "code",
   "execution_count": 37,
   "metadata": {},
   "outputs": [],
   "source": [
    "gauss_3x3 = [[1, 2, 1], [2, 4, 2], [1, 2, 1]]\n",
    "gauss_5x5 = [[1, 4, 7, 4, 1], [4, 16, 26, 16, 4], [7, 26, 41, 26, 7],\n",
    "            [4, 16, 26, 16, 4], [1, 4, 7, 4, 1]]"
   ]
  },
  {
   "cell_type": "code",
   "execution_count": 38,
   "metadata": {},
   "outputs": [],
   "source": [
    "def avg_linear_filter(img, weights=gauss_5x5, sum_weights=0):\n",
    "    length = len(img)\n",
    "    width = len(img[0])\n",
    "    mask_radius = math.floor(len(weights) / 2)\n",
    "    ext_img = ext_bounds(img, length, width, mask_radius)\n",
    "\n",
    "    # sum_weights can be changed from 0 for an edge detector or other\n",
    "    # filter where the sum would equal 0 and cause zero division error.\n",
    "    # Otherwise, the function will figure it out, below.\n",
    "    if sum_weights == 0:\n",
    "        for i in range(len(weights)):\n",
    "            sum_weights += sum(weights[i])\n",
    "        \n",
    "        if sum_weights == 0:\n",
    "            print(\"please supply a non-zero sum_weights for this filter,\\\n",
    "            maybe the sum of their absolute values.\")\n",
    "    \n",
    "    # apply filter\n",
    "    new_img = []\n",
    "    for i in range(mask_radius, length + mask_radius):\n",
    "        new_img.append([])\n",
    "        for j in range(mask_radius, width + mask_radius):\n",
    "            summed = 0\n",
    "            for k in range(len(weights)):\n",
    "                for m in range(len(weights[k])):\n",
    "                    summed += ext_img[i-mask_radius+k][j-mask_radius+m] *\\\n",
    "                    weights[k][m]\n",
    "            new_img[i-mask_radius].append(summed / sum_weights)\n",
    "\n",
    "    return new_img"
   ]
  },
  {
   "cell_type": "code",
   "execution_count": 39,
   "metadata": {},
   "outputs": [],
   "source": [
    "def med_linear_filter(img, weights=gauss_5x5):\n",
    "    length = len(img)\n",
    "    width = len(img[0])\n",
    "    mask_radius = math.floor(len(weights) / 2)\n",
    "    ext_img = ext_bounds(img, length, width, mask_radius)\n",
    "\n",
    "    # apply filter\n",
    "    new_img = []\n",
    "    for i in range(mask_radius, length + mask_radius):\n",
    "        new_img.append([])\n",
    "        for j in range(mask_radius, width + mask_radius):\n",
    "            products = []\n",
    "            for k in range(len(weights)):\n",
    "                for m in range(len(weights[k])):\n",
    "                    for _ in range(weights[k][m]):\n",
    "                        products.append(ext_img[i-mask_radius+k][j-mask_radius+m])\n",
    "            new_img[i-mask_radius].append(st.median(products))\n",
    "\n",
    "    return new_img"
   ]
  },
  {
   "cell_type": "code",
   "execution_count": 40,
   "metadata": {},
   "outputs": [],
   "source": [
    "def batch_process(folder, funcs, abbr=None, save_loc=None, verbose=False):\n",
    "    # funcs should be a tuple or list like:\n",
    "    # [[func1, {param1:arg1, param2:arg2}], [func2, {param1:arg1}]]\n",
    "    # where paramaters are anything besides \"img\" or \"folder\"\n",
    "    \n",
    "    # abbr can be:\n",
    "    # \"cyl\": columnar epithelial?\n",
    "    # \"para\": parabasal squamous epithelial\n",
    "    # \"inter\": intermediate squamous epithelial\n",
    "    # \"super\": superficial squamous epithelial\n",
    "    # \"let\": mild nonkeratinizing dysplastic?\n",
    "    # \"mod\": moderate nonkeratinizing dysplastic\n",
    "    # \"svar\": severe nonkeratinizing dysplastic?\n",
    "    # if we only want to apply provided functions to one type of cell\n",
    "    if abbr:\n",
    "        files = glob.glob(f\"{folder}/{abbr}*\")\n",
    "    else:\n",
    "        files = glob.glob(f\"{folder}/*\")\n",
    "\n",
    "    start = time.perf_counter()\n",
    "    num = 0\n",
    "    sum_msqe = 0\n",
    "    bin_list = []\n",
    "    count_list = []\n",
    "    # open and grayscale each file\n",
    "    for file in files:\n",
    "        num += 1\n",
    "        pix_list = open_in_gray(file)\n",
    "        for func in funcs:\n",
    "            if func[0] == quantizer:\n",
    "                pix_list, msqe = func[0](pix_list, **(func[1]))\n",
    "                sum_msqe += msqe\n",
    "            elif func[0] == hist:\n",
    "                bins, counts = func[0](pix_list, **(func[1]))\n",
    "                bin_list.append(bins)\n",
    "                count_list.append(counts)\n",
    "            else:\n",
    "                pix_list = func[0](pix_list, **(func[1]))\n",
    "        if save_loc:\n",
    "            to_image(pix_list, save_loc=f\"{save_loc}/out{num}.png\")\n",
    "        else:\n",
    "            to_image(pix_list)\n",
    "\n",
    "    if verbose:\n",
    "        # statistics\n",
    "        end = time.perf_counter()\n",
    "        batch = end - start\n",
    "        ind = batch / len(files)\n",
    "        out_string = f\"batch time: {batch}\\naverage individual time: {ind}\"\n",
    "        if quantizer in [func[0] for func in funcs]:\n",
    "            out_string += f\"\\n mean of msqe: {sum_msqe/len(files)}\"\n",
    "    \n",
    "        print(out_string)\n",
    "    "
   ]
  },
  {
   "cell_type": "markdown",
   "metadata": {},
   "source": [
    "Image segmentation\n",
    "1. Implement one selected edge detection algorithm.\n",
    "2. Implement dilation and erosion operators.\n",
    "4. Implement two segmentation techniques (they must be implemented by you, not API calls):\n",
    "+ histogram thresholding – single threshold that divides image into two segments: foreground (cells) and\n",
    "background (everything else).\n",
    "+ clustering (k-means recommended, examine the effect of different values of k parameter on the\n",
    "segmentation)\n",
    "5. In your project report, please present example results before and after edge detection / dilation /\n",
    "erosion /segmentation for each respective class of cells (seven in total)\n",
    "\n",
    "use different methods for extra credit\n",
    "* parallelize k means\n",
    "* mean shift\n",
    "\n",
    "good feaures (slide 13):\n",
    "* area\n",
    "* perimeter\n",
    "* minimum and maximum radii\n",
    "* center of mass and central moments\n",
    "* orientation\n",
    "* try something else!"
   ]
  },
  {
   "cell_type": "markdown",
   "metadata": {},
   "source": [
    "Edge operator function, can do Prewitt, Sobel, or Jahne"
   ]
  },
  {
   "cell_type": "code",
   "execution_count": 41,
   "metadata": {},
   "outputs": [],
   "source": [
    "def edge_operator(img, type=\"Jahne\"):\n",
    "    new_img_x = []\n",
    "    new_img_y = []\n",
    "    if type == \"Prewitt\":\n",
    "        x_mask = [[-1, 0, 1], [-1, 0, 1], [-1, 0, 1]]\n",
    "        y_mask = [[-1, -1, -1], [0, 0, 0], [1, 1, 1]]\n",
    "        new_img_x = avg_linear_filter(img, weights=x_mask, sum_weights=6)\n",
    "        new_img_y = avg_linear_filter(img, weights=y_mask, sum_weights=6)\n",
    "    elif type == \"Sobel\":\n",
    "        x_mask = [[-1, 0, 1], [-2, 0, 2], [-1, 0, 1]]\n",
    "        y_mask = [[-1, -2, -1], [0, 0, 0], [1, 2, 1]]\n",
    "        new_img_x = avg_linear_filter(img, weights=x_mask, sum_weights=8)\n",
    "        new_img_y = avg_linear_filter(img, weights=y_mask, sum_weights=8)\n",
    "    elif type == \"Jahne\":\n",
    "        x_mask = [[-3, 0, 3], [-10, 0, 10], [-3, 0, 3]]\n",
    "        y_mask = [[-3, -10, -3], [0, 0, 0], [3, 10, 3]]\n",
    "        new_img_x = avg_linear_filter(img, weights=x_mask, sum_weights=32)\n",
    "        new_img_y = avg_linear_filter(img, weights=y_mask, sum_weights=32)\n",
    "\n",
    "    length = len(new_img_y)\n",
    "    width = len(new_img_y[0])\n",
    "    new_img = []\n",
    "    for i in range(length):\n",
    "        new_img.append([])\n",
    "        for j in range(width):\n",
    "            grad = math.sqrt(new_img_x[i][j]**2 + new_img_y[i][j]**2)\n",
    "            new_img[i].append(grad)\n",
    "    return new_img"
   ]
  },
  {
   "cell_type": "markdown",
   "metadata": {},
   "source": [
    "Histogram thresholding – single threshold that divides image into two segments: foreground (cells) and background (everything else)"
   ]
  },
  {
   "cell_type": "code",
   "execution_count": 108,
   "metadata": {},
   "outputs": [],
   "source": [
    "def hist_thresh(img):\n",
    "    bins, counts = hist(img)\n",
    "    num_pix = sum(counts)\n",
    "    within_group_vars = []\n",
    "\n",
    "    for thresh in range(2, 255):\n",
    "        obj_prior = sum(counts[:thresh]) / num_pix\n",
    "        back_prior = sum(counts[thresh:]) / num_pix\n",
    "\n",
    "        if obj_prior != 0:\n",
    "            obj_mean = (sum([i * counts[i] for i in range(thresh)]) / num_pix)\\\n",
    "                / obj_prior\n",
    "            obj_var = sum([(i - obj_mean)**2 * counts[i] for i in range(thresh)])\\\n",
    "                / (num_pix * obj_prior)\n",
    "        else:\n",
    "            obj_var = 0\n",
    "        \n",
    "        if back_prior != 0:\n",
    "            back_mean = (sum([i * counts[i] for i in range(thresh, 255)]) / num_pix)\\\n",
    "                / back_prior\n",
    "            back_var = sum([(i - back_mean)**2 * counts[i] for i in range(thresh, 255)])\\\n",
    "                / (num_pix * back_prior)\n",
    "        else:\n",
    "            back_var = 0\n",
    "\n",
    "        within_group_vars.append(obj_var * obj_prior + back_var * back_prior)\n",
    "    \n",
    "    index = within_group_vars.index(min(within_group_vars))\n",
    "    threshold = bins[index+1]\n",
    "\n",
    "    length = len(img)\n",
    "    width = len(img[0])\n",
    "\n",
    "    new_img = []\n",
    "    for i in range(length):\n",
    "        new_img.append([])\n",
    "        for j in range(width):\n",
    "            if img[i][j] <= threshold:\n",
    "                new_img[i].append(0)\n",
    "            else:\n",
    "                new_img[i].append(255)\n",
    "    return new_img"
   ]
  },
  {
   "cell_type": "code",
   "execution_count": 107,
   "metadata": {},
   "outputs": [
    {
     "data": {
      "image/png": "[encoded data removed]",
      "text/plain": [
       "<PIL.Image.Image image mode=L size=768x568 at 0x118889EE0>"
      ]
     },
     "execution_count": 107,
     "metadata": {},
     "output_type": "execute_result"
    }
   ],
   "source": [
    "to_image(hist_thresh(open_in_gray(\"Cancerous cell smears/mod02.BMP\")))"
   ]
  },
  {
   "cell_type": "markdown",
   "metadata": {},
   "source": [
    "Dilation and erosion operators"
   ]
  },
  {
   "cell_type": "code",
   "execution_count": 109,
   "metadata": {},
   "outputs": [],
   "source": [
    "def dilate(img, weights):\n",
    "    # use a square filter with 0 for negative (white) and 1 for positive (black)\n",
    "    length = len(img)\n",
    "    width = len(img[0])\n",
    "    mask_radius = math.floor(len(weights) / 2)\n",
    "    binary = hist_thresh(img)\n",
    "    new_img = []\n",
    "    for i in range(length):\n",
    "        new_img.append([])\n",
    "        for j in range(width):\n",
    "            new_img[i].append(255)\n",
    "\n",
    "    for i in range(length):\n",
    "        for j in range(width):\n",
    "            if binary[i][j] == 0:\n",
    "                for m in range(-mask_radius, mask_radius + 1):\n",
    "                    for n in range(-mask_radius, mask_radius + 1):\n",
    "                        if weights[m+mask_radius][n+mask_radius] == 1\\\n",
    "                            and i + m >= 0 and i + m < length\\\n",
    "                            and j + n > 0 and j + n < width:\n",
    "                            new_img[i+m][j+n] = 0\n",
    "\n",
    "    return new_img"
   ]
  },
  {
   "cell_type": "code",
   "execution_count": 110,
   "metadata": {},
   "outputs": [],
   "source": [
    "def erode(img, weights):\n",
    "    # use a square filter with 0 for negative (white) and 1 for positive (black)\n",
    "    length = len(img)\n",
    "    width = len(img[0])\n",
    "    mask_radius = math.floor(len(weights) / 2)\n",
    "    binary = hist_thresh(img)\n",
    "    new_img = []\n",
    "\n",
    "    for i in range(length):\n",
    "        new_img.append([])\n",
    "        for j in range(width):\n",
    "            new_img[i].append(255)\n",
    "\n",
    "    for i in range(length):\n",
    "        for j in range(width):\n",
    "            present = True\n",
    "            for m in range(-mask_radius, mask_radius + 1):\n",
    "                for n in range(-mask_radius, mask_radius + 1):\n",
    "                    if weights[m+mask_radius][n+mask_radius] == 1\\\n",
    "                        and i + m >= 0 and i + m < length\\\n",
    "                        and j + n > 0 and j + n < width:\n",
    "                        if binary[i+m][j+n] != 0:\n",
    "                            present = False\n",
    "                            break\n",
    "                if not present:\n",
    "                    break\n",
    "            if present:    \n",
    "                new_img[i][j] = 0\n",
    "\n",
    "    return new_img"
   ]
  },
  {
   "cell_type": "markdown",
   "metadata": {},
   "source": [
    "K-means"
   ]
  },
  {
   "cell_type": "code",
   "execution_count": 154,
   "metadata": {},
   "outputs": [],
   "source": [
    "def k_means(img, k, iter = 100):\n",
    "    binary = hist_thresh(img)\n",
    "    length = len(img)\n",
    "    width = len(img[0])\n",
    "    sums = [[0, 0] for _ in range(k)]\n",
    "    counts = [0 for _ in range(k)]\n",
    "    points = []\n",
    "\n",
    "    for i in range(length):\n",
    "        for j in range(width):\n",
    "            if binary[i][j] == 0:\n",
    "                points.append([i, j, 0])\n",
    "\n",
    "    centers = [[s[0], s[1]] for s in random.sample(points, k)]\n",
    "    \n",
    "    for i in range(iter):\n",
    "        for point in points:\n",
    "            cent_dist = 500000\n",
    "            closest = 0\n",
    "            for m in range(k):\n",
    "                dist = math.sqrt((centers[m][0] - point[0])**2 + (centers[m][1] - point[1])**2)\n",
    "                if dist < cent_dist:\n",
    "                    cent_dist = dist\n",
    "                    closest = m\n",
    "            point[2] = closest\n",
    "            sums[closest][0] += point[0]\n",
    "            sums[closest][1] += point[1]\n",
    "            counts[closest] += 1\n",
    "        \n",
    "        for i in range(k):\n",
    "            if counts[i] != 0:\n",
    "                centers[i][0] = sums[i][0] / counts[i]\n",
    "                centers[i][1] = sums[i][1] / counts[i]\n",
    "\n",
    "    colors = list(range(0, 255, round(255/k)))\n",
    "    for point in points:\n",
    "        binary[point[0]][point[1]] = colors[point[2]]\n",
    "\n",
    "    return binary"
   ]
  },
  {
   "cell_type": "code",
   "execution_count": 148,
   "metadata": {},
   "outputs": [
    {
     "data": {
      "image/png": "[encoded data removed]",
      "text/plain": [
       "<PIL.Image.Image image mode=L size=768x568 at 0x103FF48B0>"
      ]
     },
     "execution_count": 148,
     "metadata": {},
     "output_type": "execute_result"
    }
   ],
   "source": [
    "to_image(k_means(open_in_gray(\"Cancerous cell smears/mod02.BMP\"), 20))"
   ]
  }
 ],
 "metadata": {
  "interpreter": {
   "hash": "aee8b7b246df8f9039afb4144a1f6fd8d2ca17a180786b69acc140d282b71a49"
  },
  "kernelspec": {
   "display_name": "Python 3.9.7 64-bit",
   "language": "python",
   "name": "python3"
  },
  "language_info": {
   "codemirror_mode": {
    "name": "ipython",
    "version": 3
   },
   "file_extension": ".py",
   "mimetype": "text/x-python",
   "name": "python",
   "nbconvert_exporter": "python",
   "pygments_lexer": "ipython3",
   "version": "3.9.7"
  },
  "orig_nbformat": 4
 },
 "nbformat": 4,
 "nbformat_minor": 2
}
