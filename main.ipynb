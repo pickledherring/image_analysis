{
 "cells": [
  {
   "cell_type": "code",
   "execution_count": 31,
   "metadata": {},
   "outputs": [],
   "source": [
    "import glob\n",
    "import matplotlib.pyplot as plt\n",
    "import math\n",
    "import statistics as st\n",
    "import random\n",
    "import time\n",
    "from PIL import Image"
   ]
  },
  {
   "cell_type": "markdown",
   "metadata": {},
   "source": [
    "Noise addition functions: \n",
    "* Salt and pepper noise of user-specified strength \n",
    "* Gaussian noise of user-specified parameters"
   ]
  },
  {
   "cell_type": "code",
   "execution_count": 4,
   "metadata": {},
   "outputs": [],
   "source": [
    "def salt_n_pepper(img, prob):\n",
    "    # prob should be int [0 - 1], recommend <.1\n",
    "    new_img = []\n",
    "    for i in range(len(img)):\n",
    "        new_img.append([])\n",
    "        for j in range(len(img[i])):\n",
    "            if random.random() <= prob:\n",
    "                if random.choice([\"black\", \"white\"]) == \"black\":\n",
    "                    new_img[i].append(0)\n",
    "                else:\n",
    "                    new_img[i].append(255)\n",
    "            else:\n",
    "                new_img[i].append(img[i][j])\n",
    "    return new_img\n",
    "    "
   ]
  },
  {
   "cell_type": "code",
   "execution_count": 5,
   "metadata": {},
   "outputs": [],
   "source": [
    "def gaussian_noise(img, mu = 0, sigma = 1):\n",
    "    new_img = []\n",
    "    for i in range(len(img)):\n",
    "        new_img.append([])\n",
    "        for j in range(len(img[i])):\n",
    "            new_val = img[i][j] + random.gauss(mu, sigma)\n",
    "            if new_val < 0:\n",
    "                new_img[i].append(0)\n",
    "            elif new_val > 255:\n",
    "                new_img[i].append(1)\n",
    "            else:\n",
    "                new_img[i].append(new_val)\n",
    "\n",
    "    return new_img"
   ]
  },
  {
   "cell_type": "markdown",
   "metadata": {},
   "source": [
    "Converting color images to selected single color spectrum. "
   ]
  },
  {
   "cell_type": "code",
   "execution_count": 6,
   "metadata": {},
   "outputs": [],
   "source": [
    "def grayscale(img):\n",
    "    new_img = []\n",
    "    for i in range(len(img)):\n",
    "        new_img.append([])\n",
    "        for j in range(len(img[i])):\n",
    "            # CIE recommended constants\n",
    "            grey = .2126 * img[i][j][0] + .7152 * img[i][j][1]+ .0722 * img[i][j][2]\n",
    "            new_img[i].append(grey)\n",
    "    return new_img"
   ]
  },
  {
   "cell_type": "markdown",
   "metadata": {},
   "source": [
    "open_in_gray is the only function to open an image as all other functions are for grayscale images. run open_in gray on a file, then a function or functions on the returned image, then to_image on that return to get a viewable image"
   ]
  },
  {
   "cell_type": "code",
   "execution_count": 7,
   "metadata": {},
   "outputs": [],
   "source": [
    "def open_in_gray(file):\n",
    "    img = Image.open(file)\n",
    "    width, height = img.size\n",
    "    pix = img.getdata()\n",
    "    pix_list = []\n",
    "    for y in range(height):\n",
    "        pix_list.append([pix[y * width + x] for x in range(width)])\n",
    "\n",
    "    # all functions are on grayscale, so this step is required\n",
    "    pix_list = grayscale(pix_list)\n",
    "    return pix_list"
   ]
  },
  {
   "cell_type": "code",
   "execution_count": 8,
   "metadata": {},
   "outputs": [],
   "source": [
    "def to_image(pix_list, save_loc=None):\n",
    "    size = [len(pix_list[0]), len(pix_list)]\n",
    "    flat_list = []\n",
    "    for row in pix_list:\n",
    "        for pixel in row:\n",
    "            flat_list.append(pixel)\n",
    "    output = Image.new(\"L\", size)\n",
    "    output.putdata(flat_list)\n",
    "    \n",
    "    if save_loc:\n",
    "        output.save(f\"{save_loc}\")\n",
    "    return output"
   ]
  },
  {
   "cell_type": "markdown",
   "metadata": {},
   "source": [
    "Histogram calculation for each individual image"
   ]
  },
  {
   "cell_type": "code",
   "execution_count": 9,
   "metadata": {},
   "outputs": [],
   "source": [
    "def hist(img, bins = 255):\n",
    "    bin_divs = []\n",
    "    counts = []\n",
    "    for i in range(1, bins + 1):\n",
    "        bin_divs.append(i * 255/bins)\n",
    "        counts.append(0)\n",
    "\n",
    "    for i in range(len(img)):\n",
    "        for j in range(len(img[i])):\n",
    "            # better as a binary search\n",
    "            for k in range(bins):\n",
    "                if img[i][j] <= bin_divs[k]:\n",
    "                    counts[k] += 1\n",
    "                    break\n",
    "    \n",
    "    return bin_divs, counts"
   ]
  },
  {
   "cell_type": "code",
   "execution_count": 10,
   "metadata": {},
   "outputs": [],
   "source": [
    "def plot_hist(bin_divs, counts, title=None):\n",
    "    half_width = bin_divs[0]/2\n",
    "    plt.bar([x - half_width for x in bin_divs], counts, width = half_width*2)\n",
    "    plt.xlabel(\"intensity\")\n",
    "    plt.ylabel(\"count\")\n",
    "    if title:\n",
    "            titles = {\"cyl\": \"columnar epithelial\",\n",
    "                    \"para\": \"parabasal squamous epithelial\",\n",
    "                    \"inter\": \"intermediate squamous epithelial\",\n",
    "                    \"super\": \"superficial squamous epithelial\",\n",
    "                    \"let\": \"mild nonkeratinizing dysplastic\",\n",
    "                    \"mod\": \"moderate nonkeratinizing dysplastic\",\n",
    "                    \"svar\": \"severe nonkeratinizing dysplastic\"}\n",
    "            plt.title(titles[title])\n",
    "    plt.show()"
   ]
  },
  {
   "cell_type": "markdown",
   "metadata": {},
   "source": [
    "Averaged histograms of pixel values for each class of images"
   ]
  },
  {
   "cell_type": "markdown",
   "metadata": {},
   "source": [
    "hist_avg_class can be run independently of open_in_gray as it runs it internally"
   ]
  },
  {
   "cell_type": "code",
   "execution_count": 11,
   "metadata": {},
   "outputs": [],
   "source": [
    "def hist_avg_class(folder, abbr, bins = 255, plot = False):\n",
    "    # abbr can be:\n",
    "    # \"cyl\": columnar epithelial?\n",
    "    # \"para\": parabasal squamous epithelial\n",
    "    # \"inter\": intermediate squamous epithelial\n",
    "    # \"super\": superficial squamous epithelial\n",
    "    # \"let\": mild nonkeratinizing dysplastic?\n",
    "    # \"mod\": moderate nonkeratinizing dysplastic\n",
    "    # \"svar\": severe nonkeratinizing dysplastic?\n",
    "    files = glob.glob(f\"{folder}/{abbr}*\")\n",
    "\n",
    "    bin_divs = [i * 255/bins for i in range(1, bins + 1)]\n",
    "    counts = [0 for _ in range(bins)]\n",
    "    # open and grayscale each file\n",
    "    for file in files:\n",
    "        pix_list = open_in_gray(file)\n",
    "        # get and add counts\n",
    "        _, ind_counts = hist(pix_list, bins = bins)\n",
    "        counts = [a + b for a, b in zip(counts, ind_counts)]\n",
    "\n",
    "    # average counts\n",
    "    counts = [x / len(files) for x in counts]\n",
    "\n",
    "    return bin_divs, counts"
   ]
  },
  {
   "cell_type": "markdown",
   "metadata": {},
   "source": [
    "Histogram equalization for each image"
   ]
  },
  {
   "cell_type": "code",
   "execution_count": 12,
   "metadata": {},
   "outputs": [],
   "source": [
    "def hist_eq(img):\n",
    "    new_img = []\n",
    "    # get cdf\n",
    "    num_pix = len(img) * len(img[0])\n",
    "    _, counts = hist(img)\n",
    "    cdf = []\n",
    "    sum_int = 0\n",
    "    for i in range(len(counts)):\n",
    "        sum_int += counts[i]\n",
    "        cdf.append(math.floor(255 * sum_int / num_pix))\n",
    "    # apply cdf\n",
    "    for i in range(len(img)):\n",
    "        new_img.append([])\n",
    "        for j in range(len(img[i])):\n",
    "            new_img[i].append(cdf[int(img[i][j])])\n",
    "    return new_img"
   ]
  },
  {
   "cell_type": "markdown",
   "metadata": {},
   "source": [
    "Selected image quantization technique for user-specified levels\n"
   ]
  },
  {
   "cell_type": "code",
   "execution_count": 40,
   "metadata": {},
   "outputs": [],
   "source": [
    "def quantizer(img, num_levels):\n",
    "    new_img = []\n",
    "    bins = [i * 255/num_levels for i in range(1, num_levels + 1)]\n",
    "    dQ = 255 / num_levels\n",
    "    msqe = 0\n",
    "    for i in range(len(img)):\n",
    "        new_img.append([])\n",
    "        for j in range(len(img[i])):\n",
    "            for k in range(num_levels):\n",
    "                if img[i][j] <= bins[k]:\n",
    "                    new_img[i].append((k + .5) * dQ)\n",
    "                    msqe += (img[i][j] - new_img[i][j])**2\n",
    "                    break\n",
    "    msqe /= len(img) * len(img[0])\n",
    "\n",
    "    return new_img, msqe"
   ]
  },
  {
   "cell_type": "markdown",
   "metadata": {},
   "source": [
    "Filtering operations: \n",
    "*Linear filter with user-specified mask size and pixel weights\n",
    "*Median filter with user-specified mask size and pixel weights\n"
   ]
  },
  {
   "cell_type": "code",
   "execution_count": 16,
   "metadata": {},
   "outputs": [],
   "source": [
    "def ext_bounds(img, length, width, mask_size):\n",
    "    # works well when there is no border\n",
    "    new_img = []\n",
    "    for i in range(mask_size):\n",
    "        new_img.append([])\n",
    "        # top left corner\n",
    "        for j in range(mask_size):\n",
    "            new_img[i].append(img[length-mask_size+i][width-mask_size+j])\n",
    "        # top center\n",
    "        for j in range(width):\n",
    "            new_img[i].append(img[length-mask_size+i][j])\n",
    "        # top right corner\n",
    "        for j in range(mask_size):\n",
    "            new_img[i].append(img[length-mask_size+i][j])\n",
    "    for i in range(length):\n",
    "        new_img.append([])\n",
    "        # middle left\n",
    "        for j in range(mask_size):\n",
    "            new_img[i+mask_size].append(img[i][width-mask_size+j])\n",
    "        # middle center\n",
    "        for j in range(width):\n",
    "            new_img[i+mask_size].append(img[i][j])\n",
    "        # middle right\n",
    "        for j in range(mask_size):\n",
    "            new_img[i+mask_size].append(img[i][j])\n",
    "    for i in range(mask_size):\n",
    "        new_img.append([])\n",
    "        # bottom left corner\n",
    "        for j in range(mask_size):\n",
    "            new_img[i+length+mask_size].append(img[i][width-mask_size+j])\n",
    "        # bottom center\n",
    "        for j in range(width):\n",
    "            new_img[i+length+mask_size].append(img[i][j])\n",
    "        # bottom right corner\n",
    "        for j in range(mask_size):\n",
    "            new_img[i+length+mask_size].append(img[i][j])\n",
    "    return new_img"
   ]
  },
  {
   "cell_type": "code",
   "execution_count": 17,
   "metadata": {},
   "outputs": [],
   "source": [
    "def avg_linear_filter(img, weights):\n",
    "    length = len(img)\n",
    "    width = len(img[0])\n",
    "    mask_size = math.floor(len(weights) / 2)\n",
    "    ext_img = ext_bounds(img, length, width, mask_size)\n",
    "\n",
    "    sum_weights = 0\n",
    "    for i in range(len(weights)):\n",
    "        sum_weights += sum(weights[i])\n",
    "    # apply filter\n",
    "    new_img = []\n",
    "    for i in range(len(img)):\n",
    "        new_img.append([])\n",
    "        for j in range(len(img[i])):\n",
    "            summed = 0\n",
    "            for k in range(len(weights)):\n",
    "                for m in range(len(weights[k])):\n",
    "                    summed += ext_img[i-mask_size+k][j-mask_size+m] *\\\n",
    "                    weights[k][m]\n",
    "            new_img[i].append(summed / sum_weights)\n",
    "\n",
    "    return new_img"
   ]
  },
  {
   "cell_type": "code",
   "execution_count": 18,
   "metadata": {},
   "outputs": [],
   "source": [
    "def med_linear_filter(img, weights):\n",
    "    length = len(img)\n",
    "    width = len(img[0])\n",
    "    mask_size = math.floor(len(weights) / 2)\n",
    "    ext_img = ext_bounds(img, length, width, mask_size)\n",
    "\n",
    "    # apply filter\n",
    "    new_img = []\n",
    "    for i in range(len(img)):\n",
    "        new_img.append([])\n",
    "        for j in range(len(img[i])):\n",
    "            products = []\n",
    "            for k in range(len(weights)):\n",
    "                for m in range(len(weights[k])):\n",
    "                    products.append(ext_img[i-mask_size+k][j-mask_size+m] *\\\n",
    "                    weights[k][m])\n",
    "            new_img[i].append(st.median(products))\n",
    "\n",
    "    return new_img"
   ]
  },
  {
   "cell_type": "code",
   "execution_count": 50,
   "metadata": {},
   "outputs": [],
   "source": [
    "def batch_process(folder, funcs, abbr=None, save_loc=None):\n",
    "    # funcs should be a tuple or list like:\n",
    "    # [[func1, {param1:arg1, param2:arg2}], [func2, {param1:arg1}]\n",
    "    # where paramaters are anything besides \"img\" or \"folder\"\n",
    "    \n",
    "    # abbr can be:\n",
    "    # \"cyl\": columnar epithelial?\n",
    "    # \"para\": parabasal squamous epithelial\n",
    "    # \"inter\": intermediate squamous epithelial\n",
    "    # \"super\": superficial squamous epithelial\n",
    "    # \"let\": mild nonkeratinizing dysplastic?\n",
    "    # \"mod\": moderate nonkeratinizing dysplastic\n",
    "    # \"svar\": severe nonkeratinizing dysplastic?\n",
    "    # if we only want to apply provided functions to one type of cell\n",
    "    \n",
    "    if abbr:\n",
    "        files = glob.glob(f\"{folder}/{abbr}*\")\n",
    "    else:\n",
    "        files = glob.glob(f\"{folder}/*\")\n",
    "\n",
    "    start = time.perf_counter()\n",
    "    sum_msqe = 0\n",
    "    # open and grayscale each file\n",
    "    for file in files:\n",
    "        pix_list = open_in_gray(file)\n",
    "        for func in funcs:\n",
    "            if func[0] != quantizer:\n",
    "                pix_list = func[0](pix_list, **(func[1]))\n",
    "            else:\n",
    "                pix_list, msqe = func[0](pix_list, **(func[1]))\n",
    "                sum_msqe += msqe\n",
    "        to_image(pix_list, save_loc=save_loc)\n",
    "\n",
    "    # statistics\n",
    "    end = time.perf_counter()\n",
    "    batch = end - start\n",
    "    ind = batch / len(files)\n",
    "    out_string = f\"batch time: {batch}\\naverage individual time: {ind}\"\n",
    "    if quantizer in [func[0] for func in funcs]:\n",
    "        out_string += f\"\\n mean of msqe: {sum_msqe/len(files)}\"\n",
    "    print(out_string)\n",
    "    "
   ]
  }
 ],
 "metadata": {
  "interpreter": {
   "hash": "aee8b7b246df8f9039afb4144a1f6fd8d2ca17a180786b69acc140d282b71a49"
  },
  "kernelspec": {
   "display_name": "Python 3.9.7 64-bit",
   "language": "python",
   "name": "python3"
  },
  "language_info": {
   "codemirror_mode": {
    "name": "ipython",
    "version": 3
   },
   "file_extension": ".py",
   "mimetype": "text/x-python",
   "name": "python",
   "nbconvert_exporter": "python",
   "pygments_lexer": "ipython3",
   "version": "3.9.9"
  },
  "orig_nbformat": 4
 },
 "nbformat": 4,
 "nbformat_minor": 2
}
